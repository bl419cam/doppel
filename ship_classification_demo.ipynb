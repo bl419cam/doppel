{
 "cells": [
  {
   "cell_type": "markdown",
   "metadata": {},
   "source": [
    "### Ship Images Classification Demo\n",
    "\n",
    "This notebook will use an image set from Kaggle to perform a simple neural network\n",
    "- images and data obtained from https://www.kaggle.com/arpitjain007/game-of-deep-learning-ship-datasets\n",
    "- use 6252 images in 'train' as whole dataset\n",
    "- images contain 5 classes of ships, {'Cargo': 1, 'Military': 2, 'Carrier': 3, 'Cruise': 4, 'Tankers': 5}\n",
    "- extract deep features for each image using function in ImageFeatureExtractor\n",
    "- split images into train and test sets and perform logistic regression and random forest classification\n"
   ]
  },
  {
   "cell_type": "code",
   "execution_count": 19,
   "metadata": {},
   "outputs": [],
   "source": [
    "#import relevant libraries and function\n",
    "import pandas as pd\n",
    "import numpy as np\n",
    "import os\n",
    "import time\n",
    "\n",
    "from image_feature_extractor import ImageFeatureExtractor\n",
    "\n",
    "from sklearn.model_selection import train_test_split\n",
    "from sklearn.linear_model import LogisticRegression\n",
    "from sklearn.ensemble import RandomForestClassifier\n",
    "from sklearn.metrics import classification_report"
   ]
  },
  {
   "cell_type": "code",
   "execution_count": 2,
   "metadata": {},
   "outputs": [
    {
     "name": "stdout",
     "output_type": "stream",
     "text": [
      "Requirement already satisfied: pillow in /anaconda3/envs/learn-env/lib/python3.6/site-packages (6.1.0)\r\n"
     ]
    }
   ],
   "source": [
    "#install pillow if necessary\n",
    "!pip install pillow"
   ]
  },
  {
   "cell_type": "code",
   "execution_count": 3,
   "metadata": {},
   "outputs": [],
   "source": [
    "#create image_extractor object\n",
    "image_extractor = ImageFeatureExtractor()"
   ]
  },
  {
   "cell_type": "code",
   "execution_count": 5,
   "metadata": {},
   "outputs": [],
   "source": [
    "#read labels into dataframe(set path to directory containing csv file)\n",
    "ships = pd.read_csv('./ship_train/train.csv')"
   ]
  },
  {
   "cell_type": "code",
   "execution_count": 7,
   "metadata": {
    "scrolled": false
   },
   "outputs": [
    {
     "data": {
      "text/html": [
       "<div>\n",
       "<style scoped>\n",
       "    .dataframe tbody tr th:only-of-type {\n",
       "        vertical-align: middle;\n",
       "    }\n",
       "\n",
       "    .dataframe tbody tr th {\n",
       "        vertical-align: top;\n",
       "    }\n",
       "\n",
       "    .dataframe thead th {\n",
       "        text-align: right;\n",
       "    }\n",
       "</style>\n",
       "<table border=\"1\" class=\"dataframe\">\n",
       "  <thead>\n",
       "    <tr style=\"text-align: right;\">\n",
       "      <th></th>\n",
       "      <th>image</th>\n",
       "      <th>category</th>\n",
       "    </tr>\n",
       "  </thead>\n",
       "  <tbody>\n",
       "    <tr>\n",
       "      <td>0</td>\n",
       "      <td>2823080.jpg</td>\n",
       "      <td>1</td>\n",
       "    </tr>\n",
       "    <tr>\n",
       "      <td>1</td>\n",
       "      <td>2870024.jpg</td>\n",
       "      <td>1</td>\n",
       "    </tr>\n",
       "    <tr>\n",
       "      <td>2</td>\n",
       "      <td>2662125.jpg</td>\n",
       "      <td>2</td>\n",
       "    </tr>\n",
       "    <tr>\n",
       "      <td>3</td>\n",
       "      <td>2900420.jpg</td>\n",
       "      <td>3</td>\n",
       "    </tr>\n",
       "    <tr>\n",
       "      <td>4</td>\n",
       "      <td>2804883.jpg</td>\n",
       "      <td>2</td>\n",
       "    </tr>\n",
       "  </tbody>\n",
       "</table>\n",
       "</div>"
      ],
      "text/plain": [
       "         image  category\n",
       "0  2823080.jpg         1\n",
       "1  2870024.jpg         1\n",
       "2  2662125.jpg         2\n",
       "3  2900420.jpg         3\n",
       "4  2804883.jpg         2"
      ]
     },
     "execution_count": 7,
     "metadata": {},
     "output_type": "execute_result"
    }
   ],
   "source": [
    "#view dataframe\n",
    "ships.head()"
   ]
  },
  {
   "cell_type": "code",
   "execution_count": 39,
   "metadata": {},
   "outputs": [
    {
     "name": "stdout",
     "output_type": "stream",
     "text": [
      "<class 'pandas.core.frame.DataFrame'>\n",
      "RangeIndex: 6252 entries, 0 to 6251\n",
      "Data columns (total 3 columns):\n",
      "image         6252 non-null object\n",
      "category      6252 non-null int64\n",
      "image_path    6252 non-null object\n",
      "dtypes: int64(1), object(2)\n",
      "memory usage: 146.7+ KB\n"
     ]
    }
   ],
   "source": [
    "ships.info()"
   ]
  },
  {
   "cell_type": "code",
   "execution_count": 13,
   "metadata": {},
   "outputs": [
    {
     "data": {
      "text/plain": [
       "1    2120\n",
       "5    1217\n",
       "2    1167\n",
       "3     916\n",
       "4     832\n",
       "Name: category, dtype: int64"
      ]
     },
     "execution_count": 13,
     "metadata": {},
     "output_type": "execute_result"
    }
   ],
   "source": [
    "#count number of each class of ships\n",
    "ships['category'].value_counts()"
   ]
  },
  {
   "cell_type": "code",
   "execution_count": 9,
   "metadata": {},
   "outputs": [],
   "source": [
    "#set file path for each image\n",
    "ships['image_path'] = ships['image'].apply(lambda x: os.path.join('./ship_train/images', x))"
   ]
  },
  {
   "cell_type": "code",
   "execution_count": 10,
   "metadata": {},
   "outputs": [
    {
     "data": {
      "text/html": [
       "<div>\n",
       "<style scoped>\n",
       "    .dataframe tbody tr th:only-of-type {\n",
       "        vertical-align: middle;\n",
       "    }\n",
       "\n",
       "    .dataframe tbody tr th {\n",
       "        vertical-align: top;\n",
       "    }\n",
       "\n",
       "    .dataframe thead th {\n",
       "        text-align: right;\n",
       "    }\n",
       "</style>\n",
       "<table border=\"1\" class=\"dataframe\">\n",
       "  <thead>\n",
       "    <tr style=\"text-align: right;\">\n",
       "      <th></th>\n",
       "      <th>image</th>\n",
       "      <th>category</th>\n",
       "      <th>image_path</th>\n",
       "    </tr>\n",
       "  </thead>\n",
       "  <tbody>\n",
       "    <tr>\n",
       "      <td>0</td>\n",
       "      <td>2823080.jpg</td>\n",
       "      <td>1</td>\n",
       "      <td>./ship_train/images/2823080.jpg</td>\n",
       "    </tr>\n",
       "    <tr>\n",
       "      <td>1</td>\n",
       "      <td>2870024.jpg</td>\n",
       "      <td>1</td>\n",
       "      <td>./ship_train/images/2870024.jpg</td>\n",
       "    </tr>\n",
       "    <tr>\n",
       "      <td>2</td>\n",
       "      <td>2662125.jpg</td>\n",
       "      <td>2</td>\n",
       "      <td>./ship_train/images/2662125.jpg</td>\n",
       "    </tr>\n",
       "    <tr>\n",
       "      <td>3</td>\n",
       "      <td>2900420.jpg</td>\n",
       "      <td>3</td>\n",
       "      <td>./ship_train/images/2900420.jpg</td>\n",
       "    </tr>\n",
       "    <tr>\n",
       "      <td>4</td>\n",
       "      <td>2804883.jpg</td>\n",
       "      <td>2</td>\n",
       "      <td>./ship_train/images/2804883.jpg</td>\n",
       "    </tr>\n",
       "  </tbody>\n",
       "</table>\n",
       "</div>"
      ],
      "text/plain": [
       "         image  category                       image_path\n",
       "0  2823080.jpg         1  ./ship_train/images/2823080.jpg\n",
       "1  2870024.jpg         1  ./ship_train/images/2870024.jpg\n",
       "2  2662125.jpg         2  ./ship_train/images/2662125.jpg\n",
       "3  2900420.jpg         3  ./ship_train/images/2900420.jpg\n",
       "4  2804883.jpg         2  ./ship_train/images/2804883.jpg"
      ]
     },
     "execution_count": 10,
     "metadata": {},
     "output_type": "execute_result"
    }
   ],
   "source": [
    "ships.head()"
   ]
  },
  {
   "cell_type": "code",
   "execution_count": 11,
   "metadata": {},
   "outputs": [
    {
     "name": "stdout",
     "output_type": "stream",
     "text": [
      "208.80020999908447\n"
     ]
    }
   ],
   "source": [
    "#extract deep features for each image based on file path\n",
    "#may take 3-5 minutes to extract features from all images\n",
    "start = time.time()\n",
    "\n",
    "ships_dp_feat = image_extractor.transform(ships['image_path'])\n",
    "\n",
    "end = time.time()\n",
    "\n",
    "print(end-start)"
   ]
  },
  {
   "cell_type": "code",
   "execution_count": 15,
   "metadata": {},
   "outputs": [],
   "source": [
    "#set target variable\n",
    "labels = ships['category']"
   ]
  },
  {
   "cell_type": "code",
   "execution_count": 33,
   "metadata": {},
   "outputs": [],
   "source": [
    "#split into training and test sets\n",
    "X_train, X_test, y_train, y_test = train_test_split(ships_dp_feat, labels, test_size=0.3, random_state=88)"
   ]
  },
  {
   "cell_type": "code",
   "execution_count": 34,
   "metadata": {
    "scrolled": false
   },
   "outputs": [
    {
     "data": {
      "text/plain": [
       "LogisticRegression(C=1, class_weight=None, dual=False, fit_intercept=True,\n",
       "                   intercept_scaling=1, l1_ratio=None, max_iter=5000,\n",
       "                   multi_class='multinomial', n_jobs=None, penalty='l2',\n",
       "                   random_state=None, solver='lbfgs', tol=0.0001, verbose=0,\n",
       "                   warm_start=False)"
      ]
     },
     "execution_count": 34,
     "metadata": {},
     "output_type": "execute_result"
    }
   ],
   "source": [
    "#train logistic regression\n",
    "#may take some time due to high number of iterations required for convergence\n",
    "\n",
    "lr = LogisticRegression(C=1, solver='lbfgs', max_iter=5000, multi_class='multinomial')\n",
    "lr.fit(X_train, y_train)"
   ]
  },
  {
   "cell_type": "code",
   "execution_count": 35,
   "metadata": {},
   "outputs": [],
   "source": [
    "#predict for training and test sets\n",
    "train_preds = lr.predict(X_train)\n",
    "test_preds = lr.predict(X_test)"
   ]
  },
  {
   "cell_type": "code",
   "execution_count": 36,
   "metadata": {},
   "outputs": [
    {
     "name": "stdout",
     "output_type": "stream",
     "text": [
      "              precision    recall  f1-score   support\n",
      "\n",
      "           1       0.81      0.82      0.81       642\n",
      "           2       0.93      0.90      0.92       359\n",
      "           3       0.93      0.93      0.93       269\n",
      "           4       0.95      0.91      0.93       246\n",
      "           5       0.70      0.73      0.71       360\n",
      "\n",
      "    accuracy                           0.84      1876\n",
      "   macro avg       0.86      0.86      0.86      1876\n",
      "weighted avg       0.85      0.84      0.85      1876\n",
      "\n"
     ]
    }
   ],
   "source": [
    "#view model performance for test set\n",
    "print(classification_report(y_test, test_preds))"
   ]
  },
  {
   "cell_type": "code",
   "execution_count": 37,
   "metadata": {},
   "outputs": [
    {
     "name": "stdout",
     "output_type": "stream",
     "text": [
      "              precision    recall  f1-score   support\n",
      "\n",
      "           1       1.00      1.00      1.00      1478\n",
      "           2       1.00      1.00      1.00       808\n",
      "           3       1.00      1.00      1.00       647\n",
      "           4       1.00      1.00      1.00       586\n",
      "           5       0.99      0.99      0.99       857\n",
      "\n",
      "    accuracy                           1.00      4376\n",
      "   macro avg       1.00      1.00      1.00      4376\n",
      "weighted avg       1.00      1.00      1.00      4376\n",
      "\n"
     ]
    }
   ],
   "source": [
    "#view model performance for train set(overfit)\n",
    "print(classification_report(y_train, train_preds))"
   ]
  },
  {
   "cell_type": "code",
   "execution_count": 38,
   "metadata": {},
   "outputs": [
    {
     "data": {
      "text/plain": [
       "RandomForestClassifier(bootstrap=True, class_weight=None, criterion='gini',\n",
       "                       max_depth=None, max_features='auto', max_leaf_nodes=None,\n",
       "                       min_impurity_decrease=0.0, min_impurity_split=None,\n",
       "                       min_samples_leaf=1, min_samples_split=2,\n",
       "                       min_weight_fraction_leaf=0.0, n_estimators=1000,\n",
       "                       n_jobs=-1, oob_score=False, random_state=None, verbose=0,\n",
       "                       warm_start=False)"
      ]
     },
     "execution_count": 38,
     "metadata": {},
     "output_type": "execute_result"
    }
   ],
   "source": [
    "#train RF classifier\n",
    "rfc = RandomForestClassifier(n_estimators=1000, n_jobs=-1)\n",
    "rfc.fit(X_train, y_train)"
   ]
  },
  {
   "cell_type": "code",
   "execution_count": 40,
   "metadata": {},
   "outputs": [],
   "source": [
    "#predict for train and test sets\n",
    "train_preds = rfc.predict(X_train)\n",
    "test_preds = rfc.predict(X_test)"
   ]
  },
  {
   "cell_type": "code",
   "execution_count": 41,
   "metadata": {},
   "outputs": [
    {
     "name": "stdout",
     "output_type": "stream",
     "text": [
      "              precision    recall  f1-score   support\n",
      "\n",
      "           1       0.71      0.89      0.79       642\n",
      "           2       0.89      0.92      0.91       359\n",
      "           3       0.94      0.85      0.89       269\n",
      "           4       0.97      0.90      0.93       246\n",
      "           5       0.80      0.50      0.61       360\n",
      "\n",
      "    accuracy                           0.82      1876\n",
      "   macro avg       0.86      0.81      0.83      1876\n",
      "weighted avg       0.83      0.82      0.81      1876\n",
      "\n"
     ]
    }
   ],
   "source": [
    "#view model performance for test set\n",
    "print(classification_report(y_test, test_preds))"
   ]
  },
  {
   "cell_type": "code",
   "execution_count": 42,
   "metadata": {},
   "outputs": [
    {
     "name": "stdout",
     "output_type": "stream",
     "text": [
      "              precision    recall  f1-score   support\n",
      "\n",
      "           1       1.00      1.00      1.00      1478\n",
      "           2       1.00      1.00      1.00       808\n",
      "           3       1.00      1.00      1.00       647\n",
      "           4       1.00      1.00      1.00       586\n",
      "           5       1.00      1.00      1.00       857\n",
      "\n",
      "    accuracy                           1.00      4376\n",
      "   macro avg       1.00      1.00      1.00      4376\n",
      "weighted avg       1.00      1.00      1.00      4376\n",
      "\n"
     ]
    }
   ],
   "source": [
    "#view model performance for train set(overfit)\n",
    "print(classification_report(y_train, train_preds))"
   ]
  },
  {
   "cell_type": "code",
   "execution_count": null,
   "metadata": {},
   "outputs": [],
   "source": []
  }
 ],
 "metadata": {
  "kernelspec": {
   "display_name": "learn-env",
   "language": "python",
   "name": "learn-env"
  },
  "language_info": {
   "codemirror_mode": {
    "name": "ipython",
    "version": 3
   },
   "file_extension": ".py",
   "mimetype": "text/x-python",
   "name": "python",
   "nbconvert_exporter": "python",
   "pygments_lexer": "ipython3",
   "version": "3.6.9"
  }
 },
 "nbformat": 4,
 "nbformat_minor": 2
}
